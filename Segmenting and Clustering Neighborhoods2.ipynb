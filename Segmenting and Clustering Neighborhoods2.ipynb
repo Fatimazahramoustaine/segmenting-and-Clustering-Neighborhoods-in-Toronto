{
    "cells": [
        {
            "cell_type": "markdown",
            "metadata": {
                "collapsed": true
            },
            "source": "Peer-graded Assignment: Segmenting and Clustering Neighborhoods in Toronto\n"
        },
        {
            "cell_type": "markdown",
            "metadata": {},
            "source": "// PART 1 //"
        },
        {
            "cell_type": "markdown",
            "metadata": {},
            "source": "//import Data//"
        },
        {
            "cell_type": "code",
            "execution_count": 19,
            "metadata": {},
            "outputs": [],
            "source": "import numpy as np\nimport pandas as pd\nimport requests\nurl = 'https://en.wikipedia.org/wiki/List_of_postal_codes_of_Canada:_M'\nresult = requests.get(url)"
        },
        {
            "cell_type": "code",
            "execution_count": 20,
            "metadata": {},
            "outputs": [],
            "source": "#! pip install bs4\nfrom bs4 import BeautifulSoup\nsoup = BeautifulSoup(result.content, 'html.parser')\ntable = soup.find('table')\ntrs = table.find_all('tr')\nrows = []\nfor tr in trs:\n    i = tr.find_all('td')\n    if i:\n        rows.append(i)\n        \nlst = []\nfor row in rows:\n    postalcode = row[0].text.rstrip()\n    borough = row[1].text.rstrip()\n    neighborhood = row[2].text.rstrip()\n    if borough != 'Not assigned':\n        if neighborhood == 'Not assigned':\n            neighborhood = borough\n        lst.append([postalcode, borough, neighborhood])"
        },
        {
            "cell_type": "markdown",
            "metadata": {},
            "source": "Converting into DATAFRAME\n"
        },
        {
            "cell_type": "code",
            "execution_count": 21,
            "metadata": {},
            "outputs": [
                {
                    "name": "stdout",
                    "output_type": "stream",
                    "text": "(103, 3)\n"
                }
            ],
            "source": "table_columns = ['PostalCode', 'Borough', 'Neighborhood']\ndf = pd.DataFrame(lst, columns=table_columns)\nprint(df.shape)"
        },
        {
            "cell_type": "code",
            "execution_count": 22,
            "metadata": {},
            "outputs": [],
            "source": "\ndf = df.groupby('PostalCode').agg(\n    {\n        'Borough':'first', \n        'Neighborhood': ', '.join,}\n    ).reset_index()"
        },
        {
            "cell_type": "code",
            "execution_count": 23,
            "metadata": {},
            "outputs": [
                {
                    "data": {
                        "text/html": "<div>\n<style scoped>\n    .dataframe tbody tr th:only-of-type {\n        vertical-align: middle;\n    }\n\n    .dataframe tbody tr th {\n        vertical-align: top;\n    }\n\n    .dataframe thead th {\n        text-align: right;\n    }\n</style>\n<table border=\"1\" class=\"dataframe\">\n  <thead>\n    <tr style=\"text-align: right;\">\n      <th></th>\n      <th>PostalCode</th>\n      <th>Borough</th>\n      <th>Neighborhood</th>\n    </tr>\n  </thead>\n  <tbody>\n    <tr>\n      <th>53</th>\n      <td>M5A</td>\n      <td>Downtown Toronto</td>\n      <td>Regent Park / Harbourfront</td>\n    </tr>\n  </tbody>\n</table>\n</div>",
                        "text/plain": "   PostalCode           Borough                Neighborhood\n53        M5A  Downtown Toronto  Regent Park / Harbourfront"
                    },
                    "execution_count": 23,
                    "metadata": {},
                    "output_type": "execute_result"
                }
            ],
            "source": "df.loc[df['PostalCode'] == 'M5A']"
        },
        {
            "cell_type": "code",
            "execution_count": 25,
            "metadata": {},
            "outputs": [
                {
                    "data": {
                        "text/plain": "(103, 3)"
                    },
                    "execution_count": 25,
                    "metadata": {},
                    "output_type": "execute_result"
                }
            ],
            "source": "df.shape\n"
        },
        {
            "cell_type": "code",
            "execution_count": 26,
            "metadata": {},
            "outputs": [
                {
                    "data": {
                        "text/html": "<div>\n<style scoped>\n    .dataframe tbody tr th:only-of-type {\n        vertical-align: middle;\n    }\n\n    .dataframe tbody tr th {\n        vertical-align: top;\n    }\n\n    .dataframe thead th {\n        text-align: right;\n    }\n</style>\n<table border=\"1\" class=\"dataframe\">\n  <thead>\n    <tr style=\"text-align: right;\">\n      <th></th>\n      <th>PostalCode</th>\n      <th>Borough</th>\n      <th>Neighborhood</th>\n    </tr>\n  </thead>\n  <tbody>\n    <tr>\n      <th>0</th>\n      <td>M1B</td>\n      <td>Scarborough</td>\n      <td>Malvern / Rouge</td>\n    </tr>\n    <tr>\n      <th>1</th>\n      <td>M1C</td>\n      <td>Scarborough</td>\n      <td>Rouge Hill / Port Union / Highland Creek</td>\n    </tr>\n    <tr>\n      <th>2</th>\n      <td>M1E</td>\n      <td>Scarborough</td>\n      <td>Guildwood / Morningside / West Hill</td>\n    </tr>\n    <tr>\n      <th>3</th>\n      <td>M1G</td>\n      <td>Scarborough</td>\n      <td>Woburn</td>\n    </tr>\n    <tr>\n      <th>4</th>\n      <td>M1H</td>\n      <td>Scarborough</td>\n      <td>Cedarbrae</td>\n    </tr>\n    <tr>\n      <th>5</th>\n      <td>M1J</td>\n      <td>Scarborough</td>\n      <td>Scarborough Village</td>\n    </tr>\n    <tr>\n      <th>6</th>\n      <td>M1K</td>\n      <td>Scarborough</td>\n      <td>Kennedy Park / Ionview / East Birchmount Park</td>\n    </tr>\n    <tr>\n      <th>7</th>\n      <td>M1L</td>\n      <td>Scarborough</td>\n      <td>Golden Mile / Clairlea / Oakridge</td>\n    </tr>\n    <tr>\n      <th>8</th>\n      <td>M1M</td>\n      <td>Scarborough</td>\n      <td>Cliffside / Cliffcrest / Scarborough Village West</td>\n    </tr>\n    <tr>\n      <th>9</th>\n      <td>M1N</td>\n      <td>Scarborough</td>\n      <td>Birch Cliff / Cliffside West</td>\n    </tr>\n  </tbody>\n</table>\n</div>",
                        "text/plain": "  PostalCode      Borough                                       Neighborhood\n0        M1B  Scarborough                                    Malvern / Rouge\n1        M1C  Scarborough           Rouge Hill / Port Union / Highland Creek\n2        M1E  Scarborough                Guildwood / Morningside / West Hill\n3        M1G  Scarborough                                             Woburn\n4        M1H  Scarborough                                          Cedarbrae\n5        M1J  Scarborough                                Scarborough Village\n6        M1K  Scarborough      Kennedy Park / Ionview / East Birchmount Park\n7        M1L  Scarborough                  Golden Mile / Clairlea / Oakridge\n8        M1M  Scarborough  Cliffside / Cliffcrest / Scarborough Village West\n9        M1N  Scarborough                       Birch Cliff / Cliffside West"
                    },
                    "execution_count": 26,
                    "metadata": {},
                    "output_type": "execute_result"
                }
            ],
            "source": "df.head(10)\n"
        },
        {
            "cell_type": "code",
            "execution_count": 27,
            "metadata": {},
            "outputs": [],
            "source": "#! pip install geopy\nfrom geopy.geocoders import Nominatim\nfrom pandas.io.json import json_normalize"
        },
        {
            "cell_type": "code",
            "execution_count": 28,
            "metadata": {},
            "outputs": [
                {
                    "name": "stdout",
                    "output_type": "stream",
                    "text": "--2020-05-04 16:09:03--  http://cocl.us/Geospatial_data/\nResolving cocl.us (cocl.us)... 159.8.69.24, 159.8.72.228, 159.8.69.21\nConnecting to cocl.us (cocl.us)|159.8.69.24|:80... connected.\nHTTP request sent, awaiting response... 301 Moved Permanently\nLocation: https://cocl.us/Geospatial_data/ [following]\n--2020-05-04 16:09:03--  https://cocl.us/Geospatial_data/\nConnecting to cocl.us (cocl.us)|159.8.69.24|:443... connected.\nHTTP request sent, awaiting response... 301 Moved Permanently\nLocation: https://ibm.box.com/shared/static/9afzr83pps4pwf2smjjcf1y5mvgb18rr.csv [following]\n--2020-05-04 16:09:04--  https://ibm.box.com/shared/static/9afzr83pps4pwf2smjjcf1y5mvgb18rr.csv\nResolving ibm.box.com (ibm.box.com)... 107.152.25.197\nConnecting to ibm.box.com (ibm.box.com)|107.152.25.197|:443... connected.\nHTTP request sent, awaiting response... 301 Moved Permanently\nLocation: /public/static/9afzr83pps4pwf2smjjcf1y5mvgb18rr.csv [following]\n--2020-05-04 16:09:05--  https://ibm.box.com/public/static/9afzr83pps4pwf2smjjcf1y5mvgb18rr.csv\nReusing existing connection to ibm.box.com:443.\nHTTP request sent, awaiting response... 301 Moved Permanently\nLocation: https://ibm.ent.box.com/public/static/9afzr83pps4pwf2smjjcf1y5mvgb18rr.csv [following]\n--2020-05-04 16:09:05--  https://ibm.ent.box.com/public/static/9afzr83pps4pwf2smjjcf1y5mvgb18rr.csv\nResolving ibm.ent.box.com (ibm.ent.box.com)... 107.152.25.211\nConnecting to ibm.ent.box.com (ibm.ent.box.com)|107.152.25.211|:443... connected.\nHTTP request sent, awaiting response... 302 Found\nLocation: https://public.boxcloud.com/d/1/b1!iwpZAf9IPf1RGji_nxiNLf1yya6XDSMjYwh4-xHB72VknyIUMuNw-k3Z2IcDOKuxE8IM6CRsV8MTBO46d3TjVZXo-nvLeJOimEjiq6pHz5cujPE_cAVsaOEjM72livlSKBPaZda26YbBnzZWwbHDSJShD67eUa99sguiAor3w-9rDOByNOexbA2BYcpuGKz3N-0ulog75tfW5hftayKv94UTzUd2fSICdmMxB0x3txAEdmkGJmGhTIo7W_DXQSkJo5s9KzhEtSUoKOvhcoD7D-tmFIHai_7rjDpw1pDkxscbzD63sph3uosxRIBw5sSkOJ8SARQ1iZeMV0SDr_CTiD6yjarpHrvl7U_Xu-6u0uckEAzKAtt73H4fLZcS2c2vT-hBuQ-3piLXG1qSgv8-RKX-ZQBBtLa2_5Q8yH2_v8Hoof6sW04gtMkSEoBD_9hlfzz_-dv2xxeelYBN_TeTbaZT_xVKEM39118CTMhtGc5yoOe2zJ6YSNhYFFK20NdYRjj4DLOijMNUUV-RyJYyocvTOnTVyq4h42AMlAuogf93xmYpYnVyUksS9JUITUtY6xJhHDJAYmNPBzmPGTpsfcFtf-8787O68zScwejgwJCGZ2Am7S4rmb0H61vKhzL86JyrL5l9I1rMPYxx7riRCkCwRjaBYLcYGdpS3Hdk96RM4JktKCryDgrviYswetFuFRgkrKQ2DZdlvHGlD2y0liPtWEkkmRkW0Mk5g4fKR6ZHAt-b8V1fsZiy6Z7jfFKNzXbHqaUCEiK5U34c4ozLMg8EmvVhsyglwmilqj1Zt1WWCqMJUplmrEzzIky6mp7JvMpo_zpkic_LpsQ9gPx14g36uNOoki5G9uUbXzO2gGw2JGiTxaAi14K0WVmDF8O-fNe7dbPE1hBUEBxDSytnDUIp39Wds4Wh1bD5xKg4kUzZz8mi7K54wq4b10CZDsKBQ4bw7cDez6s5egJm2wSqYvU5JRV_wf9uefmcgDsRcyBUhSIMj56NNeiU6YkgOMnVyGJDiHbZJlEavBZTt_YrIAPwa3k3CmvL1Xzfl4dVCARo4O2uDUg5CuDTNkuG69TIjocjiQaMU9_whmOBtz3hTXMnWSXaYRf39ioW4fEQx9Xyc-SVtx5DrHLn9RThNrkOAf4jG8Ub1hATNvHYr5qyVJw3Sk-OUSpgnRuUO0LGQIFBr0UmchQI7oKI45jW9XSvxEyJHIqb4wUPkXsSx6r0dX2bOpCq3dWSeHBaxlHVwnycqADP6Xzz9E53tsF76Qsw_6R5uHWa_H-9DfO4mKeO7IaRqCVBMd-7M9JnafRhInx-neyxJHuHm9xcnDORcN3GDxeookqMdRlDgl_BGx63qyks1xmbR9bqdZlZ26XswurMxccwirVqPtVMu7VzouOTloXhHgzF7M67clmS3CDC1uW2q9h3JMKrvKFXw3mgFcO13A../download [following]\n--2020-05-04 16:09:06--  https://public.boxcloud.com/d/1/b1!iwpZAf9IPf1RGji_nxiNLf1yya6XDSMjYwh4-xHB72VknyIUMuNw-k3Z2IcDOKuxE8IM6CRsV8MTBO46d3TjVZXo-nvLeJOimEjiq6pHz5cujPE_cAVsaOEjM72livlSKBPaZda26YbBnzZWwbHDSJShD67eUa99sguiAor3w-9rDOByNOexbA2BYcpuGKz3N-0ulog75tfW5hftayKv94UTzUd2fSICdmMxB0x3txAEdmkGJmGhTIo7W_DXQSkJo5s9KzhEtSUoKOvhcoD7D-tmFIHai_7rjDpw1pDkxscbzD63sph3uosxRIBw5sSkOJ8SARQ1iZeMV0SDr_CTiD6yjarpHrvl7U_Xu-6u0uckEAzKAtt73H4fLZcS2c2vT-hBuQ-3piLXG1qSgv8-RKX-ZQBBtLa2_5Q8yH2_v8Hoof6sW04gtMkSEoBD_9hlfzz_-dv2xxeelYBN_TeTbaZT_xVKEM39118CTMhtGc5yoOe2zJ6YSNhYFFK20NdYRjj4DLOijMNUUV-RyJYyocvTOnTVyq4h42AMlAuogf93xmYpYnVyUksS9JUITUtY6xJhHDJAYmNPBzmPGTpsfcFtf-8787O68zScwejgwJCGZ2Am7S4rmb0H61vKhzL86JyrL5l9I1rMPYxx7riRCkCwRjaBYLcYGdpS3Hdk96RM4JktKCryDgrviYswetFuFRgkrKQ2DZdlvHGlD2y0liPtWEkkmRkW0Mk5g4fKR6ZHAt-b8V1fsZiy6Z7jfFKNzXbHqaUCEiK5U34c4ozLMg8EmvVhsyglwmilqj1Zt1WWCqMJUplmrEzzIky6mp7JvMpo_zpkic_LpsQ9gPx14g36uNOoki5G9uUbXzO2gGw2JGiTxaAi14K0WVmDF8O-fNe7dbPE1hBUEBxDSytnDUIp39Wds4Wh1bD5xKg4kUzZz8mi7K54wq4b10CZDsKBQ4bw7cDez6s5egJm2wSqYvU5JRV_wf9uefmcgDsRcyBUhSIMj56NNeiU6YkgOMnVyGJDiHbZJlEavBZTt_YrIAPwa3k3CmvL1Xzfl4dVCARo4O2uDUg5CuDTNkuG69TIjocjiQaMU9_whmOBtz3hTXMnWSXaYRf39ioW4fEQx9Xyc-SVtx5DrHLn9RThNrkOAf4jG8Ub1hATNvHYr5qyVJw3Sk-OUSpgnRuUO0LGQIFBr0UmchQI7oKI45jW9XSvxEyJHIqb4wUPkXsSx6r0dX2bOpCq3dWSeHBaxlHVwnycqADP6Xzz9E53tsF76Qsw_6R5uHWa_H-9DfO4mKeO7IaRqCVBMd-7M9JnafRhInx-neyxJHuHm9xcnDORcN3GDxeookqMdRlDgl_BGx63qyks1xmbR9bqdZlZ26XswurMxccwirVqPtVMu7VzouOTloXhHgzF7M67clmS3CDC1uW2q9h3JMKrvKFXw3mgFcO13A../download\nResolving public.boxcloud.com (public.boxcloud.com)... 185.235.236.200\nConnecting to public.boxcloud.com (public.boxcloud.com)|185.235.236.200|:443... connected.\nHTTP request sent, awaiting response... 200 OK\nLength: 2891 (2.8K) [text/csv]\nSaving to: \u2018GeoCord.csv\u2019\n\n100%[======================================>] 2,891       --.-K/s   in 0s      \n\n2020-05-04 16:09:07 (265 MB/s) - \u2018GeoCord.csv\u2019 saved [2891/2891]\n\n"
                }
            ],
            "source": "!wget -O GeoCord.csv http://cocl.us/Geospatial_data/"
        },
        {
            "cell_type": "code",
            "execution_count": 29,
            "metadata": {},
            "outputs": [
                {
                    "data": {
                        "text/html": "<div>\n<style scoped>\n    .dataframe tbody tr th:only-of-type {\n        vertical-align: middle;\n    }\n\n    .dataframe tbody tr th {\n        vertical-align: top;\n    }\n\n    .dataframe thead th {\n        text-align: right;\n    }\n</style>\n<table border=\"1\" class=\"dataframe\">\n  <thead>\n    <tr style=\"text-align: right;\">\n      <th></th>\n      <th>Postal Code</th>\n      <th>Latitude</th>\n      <th>Longitude</th>\n    </tr>\n  </thead>\n  <tbody>\n    <tr>\n      <th>0</th>\n      <td>M1B</td>\n      <td>43.806686</td>\n      <td>-79.194353</td>\n    </tr>\n    <tr>\n      <th>1</th>\n      <td>M1C</td>\n      <td>43.784535</td>\n      <td>-79.160497</td>\n    </tr>\n    <tr>\n      <th>2</th>\n      <td>M1E</td>\n      <td>43.763573</td>\n      <td>-79.188711</td>\n    </tr>\n    <tr>\n      <th>3</th>\n      <td>M1G</td>\n      <td>43.770992</td>\n      <td>-79.216917</td>\n    </tr>\n    <tr>\n      <th>4</th>\n      <td>M1H</td>\n      <td>43.773136</td>\n      <td>-79.239476</td>\n    </tr>\n  </tbody>\n</table>\n</div>",
                        "text/plain": "  Postal Code   Latitude  Longitude\n0         M1B  43.806686 -79.194353\n1         M1C  43.784535 -79.160497\n2         M1E  43.763573 -79.188711\n3         M1G  43.770992 -79.216917\n4         M1H  43.773136 -79.239476"
                    },
                    "execution_count": 29,
                    "metadata": {},
                    "output_type": "execute_result"
                }
            ],
            "source": "df_cordinates = pd.read_csv('GeoCord.csv') # Read the csv data\ndf_cordinates.head()"
        },
        {
            "cell_type": "code",
            "execution_count": 30,
            "metadata": {},
            "outputs": [
                {
                    "data": {
                        "text/html": "<div>\n<style scoped>\n    .dataframe tbody tr th:only-of-type {\n        vertical-align: middle;\n    }\n\n    .dataframe tbody tr th {\n        vertical-align: top;\n    }\n\n    .dataframe thead th {\n        text-align: right;\n    }\n</style>\n<table border=\"1\" class=\"dataframe\">\n  <thead>\n    <tr style=\"text-align: right;\">\n      <th></th>\n      <th>PostalCode</th>\n      <th>Borough</th>\n      <th>Neighborhood</th>\n      <th>Latitude</th>\n      <th>Longitude</th>\n    </tr>\n  </thead>\n  <tbody>\n    <tr>\n      <th>0</th>\n      <td>M1B</td>\n      <td>Scarborough</td>\n      <td>Malvern / Rouge</td>\n      <td>43.806686</td>\n      <td>-79.194353</td>\n    </tr>\n    <tr>\n      <th>1</th>\n      <td>M1C</td>\n      <td>Scarborough</td>\n      <td>Rouge Hill / Port Union / Highland Creek</td>\n      <td>43.784535</td>\n      <td>-79.160497</td>\n    </tr>\n    <tr>\n      <th>2</th>\n      <td>M1E</td>\n      <td>Scarborough</td>\n      <td>Guildwood / Morningside / West Hill</td>\n      <td>43.763573</td>\n      <td>-79.188711</td>\n    </tr>\n    <tr>\n      <th>3</th>\n      <td>M1G</td>\n      <td>Scarborough</td>\n      <td>Woburn</td>\n      <td>43.770992</td>\n      <td>-79.216917</td>\n    </tr>\n    <tr>\n      <th>4</th>\n      <td>M1H</td>\n      <td>Scarborough</td>\n      <td>Cedarbrae</td>\n      <td>43.773136</td>\n      <td>-79.239476</td>\n    </tr>\n    <tr>\n      <th>5</th>\n      <td>M1J</td>\n      <td>Scarborough</td>\n      <td>Scarborough Village</td>\n      <td>43.744734</td>\n      <td>-79.239476</td>\n    </tr>\n    <tr>\n      <th>6</th>\n      <td>M1K</td>\n      <td>Scarborough</td>\n      <td>Kennedy Park / Ionview / East Birchmount Park</td>\n      <td>43.727929</td>\n      <td>-79.262029</td>\n    </tr>\n    <tr>\n      <th>7</th>\n      <td>M1L</td>\n      <td>Scarborough</td>\n      <td>Golden Mile / Clairlea / Oakridge</td>\n      <td>43.711112</td>\n      <td>-79.284577</td>\n    </tr>\n    <tr>\n      <th>8</th>\n      <td>M1M</td>\n      <td>Scarborough</td>\n      <td>Cliffside / Cliffcrest / Scarborough Village West</td>\n      <td>43.716316</td>\n      <td>-79.239476</td>\n    </tr>\n    <tr>\n      <th>9</th>\n      <td>M1N</td>\n      <td>Scarborough</td>\n      <td>Birch Cliff / Cliffside West</td>\n      <td>43.692657</td>\n      <td>-79.264848</td>\n    </tr>\n    <tr>\n      <th>10</th>\n      <td>M1P</td>\n      <td>Scarborough</td>\n      <td>Dorset Park / Wexford Heights / Scarborough To...</td>\n      <td>43.757410</td>\n      <td>-79.273304</td>\n    </tr>\n    <tr>\n      <th>11</th>\n      <td>M1R</td>\n      <td>Scarborough</td>\n      <td>Wexford / Maryvale</td>\n      <td>43.750072</td>\n      <td>-79.295849</td>\n    </tr>\n    <tr>\n      <th>12</th>\n      <td>M1S</td>\n      <td>Scarborough</td>\n      <td>Agincourt</td>\n      <td>43.794200</td>\n      <td>-79.262029</td>\n    </tr>\n    <tr>\n      <th>13</th>\n      <td>M1T</td>\n      <td>Scarborough</td>\n      <td>Clarks Corners / Tam O'Shanter / Sullivan</td>\n      <td>43.781638</td>\n      <td>-79.304302</td>\n    </tr>\n    <tr>\n      <th>14</th>\n      <td>M1V</td>\n      <td>Scarborough</td>\n      <td>Milliken / Agincourt North / Steeles East / L'...</td>\n      <td>43.815252</td>\n      <td>-79.284577</td>\n    </tr>\n    <tr>\n      <th>15</th>\n      <td>M1W</td>\n      <td>Scarborough</td>\n      <td>Steeles West / L'Amoreaux West</td>\n      <td>43.799525</td>\n      <td>-79.318389</td>\n    </tr>\n    <tr>\n      <th>16</th>\n      <td>M1X</td>\n      <td>Scarborough</td>\n      <td>Upper Rouge</td>\n      <td>43.836125</td>\n      <td>-79.205636</td>\n    </tr>\n    <tr>\n      <th>17</th>\n      <td>M2H</td>\n      <td>North York</td>\n      <td>Hillcrest Village</td>\n      <td>43.803762</td>\n      <td>-79.363452</td>\n    </tr>\n    <tr>\n      <th>18</th>\n      <td>M2J</td>\n      <td>North York</td>\n      <td>Fairview / Henry Farm / Oriole</td>\n      <td>43.778517</td>\n      <td>-79.346556</td>\n    </tr>\n    <tr>\n      <th>19</th>\n      <td>M2K</td>\n      <td>North York</td>\n      <td>Bayview Village</td>\n      <td>43.786947</td>\n      <td>-79.385975</td>\n    </tr>\n  </tbody>\n</table>\n</div>",
                        "text/plain": "   PostalCode      Borough                                       Neighborhood  \\\n0         M1B  Scarborough                                    Malvern / Rouge   \n1         M1C  Scarborough           Rouge Hill / Port Union / Highland Creek   \n2         M1E  Scarborough                Guildwood / Morningside / West Hill   \n3         M1G  Scarborough                                             Woburn   \n4         M1H  Scarborough                                          Cedarbrae   \n5         M1J  Scarborough                                Scarborough Village   \n6         M1K  Scarborough      Kennedy Park / Ionview / East Birchmount Park   \n7         M1L  Scarborough                  Golden Mile / Clairlea / Oakridge   \n8         M1M  Scarborough  Cliffside / Cliffcrest / Scarborough Village West   \n9         M1N  Scarborough                       Birch Cliff / Cliffside West   \n10        M1P  Scarborough  Dorset Park / Wexford Heights / Scarborough To...   \n11        M1R  Scarborough                                 Wexford / Maryvale   \n12        M1S  Scarborough                                          Agincourt   \n13        M1T  Scarborough          Clarks Corners / Tam O'Shanter / Sullivan   \n14        M1V  Scarborough  Milliken / Agincourt North / Steeles East / L'...   \n15        M1W  Scarborough                     Steeles West / L'Amoreaux West   \n16        M1X  Scarborough                                        Upper Rouge   \n17        M2H   North York                                  Hillcrest Village   \n18        M2J   North York                     Fairview / Henry Farm / Oriole   \n19        M2K   North York                                    Bayview Village   \n\n     Latitude  Longitude  \n0   43.806686 -79.194353  \n1   43.784535 -79.160497  \n2   43.763573 -79.188711  \n3   43.770992 -79.216917  \n4   43.773136 -79.239476  \n5   43.744734 -79.239476  \n6   43.727929 -79.262029  \n7   43.711112 -79.284577  \n8   43.716316 -79.239476  \n9   43.692657 -79.264848  \n10  43.757410 -79.273304  \n11  43.750072 -79.295849  \n12  43.794200 -79.262029  \n13  43.781638 -79.304302  \n14  43.815252 -79.284577  \n15  43.799525 -79.318389  \n16  43.836125 -79.205636  \n17  43.803762 -79.363452  \n18  43.778517 -79.346556  \n19  43.786947 -79.385975  "
                    },
                    "execution_count": 30,
                    "metadata": {},
                    "output_type": "execute_result"
                }
            ],
            "source": "df['Latitude'] = np.nan\ndf['Longitude'] = np.nan\n\n# For each postcode in df, find corresponding coordinates in df_cordinates and assign it to df\nfor idx in df.index:\n    cord_idx = df_cordinates['Postal Code'] == df.loc[idx, 'PostalCode']\n    df.at[idx, 'Latitude'] = df_cordinates.loc[cord_idx, 'Latitude'].values\n    df.at[idx, 'Longitude'] = df_cordinates.loc[cord_idx, 'Longitude'].values\n\n# Display the results\ndf.head(20)"
        },
        {
            "cell_type": "code",
            "execution_count": null,
            "metadata": {},
            "outputs": [],
            "source": ""
        }
    ],
    "metadata": {
        "kernelspec": {
            "display_name": "Python 3.6",
            "language": "python",
            "name": "python3"
        },
        "language_info": {
            "codemirror_mode": {
                "name": "ipython",
                "version": 3
            },
            "file_extension": ".py",
            "mimetype": "text/x-python",
            "name": "python",
            "nbconvert_exporter": "python",
            "pygments_lexer": "ipython3",
            "version": "3.6.9"
        }
    },
    "nbformat": 4,
    "nbformat_minor": 1
}